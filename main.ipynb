{
 "cells": [
  {
   "cell_type": "code",
   "execution_count": 4,
   "metadata": {},
   "outputs": [],
   "source": [
    "#Import packages\n",
    "import os\n",
    "import numpy as np\n",
    "import pandas as pd\n",
    "import xarray as xr\n",
    "import matplotlib.pyplot as plt\n",
    "import seaborn as sns\n",
    "import os\n"
   ]
  },
  {
   "cell_type": "code",
   "execution_count": 14,
   "id": "01HXW8F1QCHK04SSYT740CBXQ8",
   "metadata": {},
   "outputs": [],
   "source": [
    "from functions import process_data"
   ]
  },
  {
   "cell_type": "code",
   "execution_count": 15,
   "metadata": {},
   "outputs": [
    {
     "ename": "TypeError",
     "evalue": "'module' object is not callable",
     "output_type": "error",
     "traceback": [
      "\u001b[1;31m---------------------------------------------------------------------------\u001b[0m",
      "\u001b[1;31mTypeError\u001b[0m                                 Traceback (most recent call last)",
      "Cell \u001b[1;32mIn[15], line 5\u001b[0m\n\u001b[0;32m      2\u001b[0m data_dir \u001b[38;5;241m=\u001b[39m \u001b[38;5;124m'\u001b[39m\u001b[38;5;124mC:/Users/ifiri/Documents/PROYECTOS/2024_claudia_alzheimer/precuneus_data\u001b[39m\u001b[38;5;124m'\u001b[39m\n\u001b[0;32m      3\u001b[0m os\u001b[38;5;241m.\u001b[39mchdir(data_dir)\n\u001b[1;32m----> 5\u001b[0m database \u001b[38;5;241m=\u001b[39m \u001b[43mprocess_data\u001b[49m\u001b[43m(\u001b[49m\u001b[43mdata_dir\u001b[49m\u001b[43m)\u001b[49m\n",
      "\u001b[1;31mTypeError\u001b[0m: 'module' object is not callable"
     ]
    }
   ],
   "source": [
    "\n",
    "# Directory containing the data\n",
    "data_dir = 'C:/Users/ifiri/Documents/PROYECTOS/2024_claudia_alzheimer/precuneus_data'\n",
    "os.chdir(data_dir)\n",
    "\n",
    "\n",
    "database = process_data(data_dir)\n",
    "\n"
   ]
  },
  {
   "cell_type": "code",
   "execution_count": null,
   "id": "01HXW7YDJK925VCVNDFGS0CCGR",
   "metadata": {},
   "outputs": [],
   "source": [
    "# Initialize an empty list to hold the correlation matrices\n",
    "correlation_matrices = []\n",
    "\n",
    "# Loop over all subjects to compute correlation matrices\n",
    "for sub in data_array.subject.values:\n",
    "    specific_subject_data = data_array.sel(subject=sub)\n",
    "    specific_subject_df = specific_subject_data.to_pandas()\n",
    "    correlation_matrix = specific_subject_df.corr()\n",
    "    correlation_matrices.append(correlation_matrix.values)\n",
    "\n",
    "# Convert the list of correlation matrices to a 3D numpy array\n",
    "correlation_3d = np.array(correlation_matrices)\n",
    "\n",
    "# Create coordinates for the new DataArray\n",
    "corr_coords = {\n",
    "    'subject': [f'Subject{i:03d}' for i in range(1, len(correlation_3d) + 1)],\n",
    "    'struc1': headers,\n",
    "    'struc2': headers\n",
    "}\n",
    "\n",
    "# Create the xarray DataArray for the correlation matrices\n",
    "correlation_data_array = xr.DataArray(correlation_3d, dims=['subject', 'struc1', 'struc2'], coords=corr_coords)\n",
    "\n",
    "# Convert to xarray Dataset if needed\n",
    "correlation_dataset = xr.Dataset({'correlation_matrix': correlation_data_array})\n",
    "\n",
    "# Print the dataset to check\n",
    "print(correlation_dataset)\n"
   ]
  },
  {
   "cell_type": "code",
   "execution_count": null,
   "id": "01HXVXTY1HGPBB6ZGCZFJJ3CAA",
   "metadata": {},
   "outputs": [],
   "source": [
    "# Access a specific value\n",
    "subject_id = 'Subject001'\n",
    "timepoint = 1\n",
    "structure = 'atlas.Precuneous'\n",
    "\n",
    "specific_value = data_3d.sel(subject=subject_id, timepoint=timepoint, struc=structure).item()\n",
    "print(f\"The value for {subject_id}, timepoint {timepoint}, structure '{structure}' is {specific_value}.\")"
   ]
  },
  {
   "cell_type": "code",
   "execution_count": null,
   "id": "01HXW0ZNCMKAKCRA925P1EB1MV",
   "metadata": {},
   "outputs": [],
   "source": [
    "# plot a heatmap of a specific subject matrix in correlation_3d\n",
    "sub = 'Subject001'\n",
    "subject_matrix = correlation_data_array.sel(subject=sub)\n",
    "plt.figure(figsize=(10, 8))\n",
    "sns.heatmap(subject_matrix,  xticklabels=headers, yticklabels=headers)\n",
    "plt.title(f'Correlation matrix for {data_array.subject.values[subject_index]}')\n",
    "plt.show()\n"
   ]
  },
  {
   "cell_type": "code",
   "execution_count": null,
   "id": "01HXVYW32GPRTRT3350JQ0EF62",
   "metadata": {},
   "outputs": [],
   "source": [
    "# Access a specific structure\n",
    "structure = 'atlas.Precuneous'\n",
    "\n",
    "# Select the data for the specified structure\n",
    "specific_structure_data = data_3d.sel(struc=structure)\n",
    "print(f\"Data for structure '{structure}':\\n\", specific_structure_data)"
   ]
  },
  {
   "cell_type": "markdown",
   "metadata": {},
   "source": [
    "Structures interested in: (1) precuneus\t(2) 7Am\t(3) 7Pm\t(4) 7m\t(5) PVC (6) POS2"
   ]
  },
  {
   "cell_type": "code",
   "execution_count": null,
   "id": "01HXVZEZ1MJSRJ99JPY07BVPMS",
   "metadata": {},
   "outputs": [],
   "source": []
  }
 ],
 "metadata": {
  "kernelspec": {
   "display_name": ".venv",
   "language": "python",
   "name": "python3"
  },
  "language_info": {
   "codemirror_mode": {
    "name": "ipython",
    "version": 3
   },
   "file_extension": ".py",
   "mimetype": "text/x-python",
   "name": "python",
   "nbconvert_exporter": "python",
   "pygments_lexer": "ipython3",
   "version": "3.12.2"
  }
 },
 "nbformat": 4,
 "nbformat_minor": 2
}
