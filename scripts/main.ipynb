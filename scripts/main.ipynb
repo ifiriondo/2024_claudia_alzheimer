{
 "cells": [
  {
   "cell_type": "code",
   "execution_count": 1,
   "metadata": {},
   "outputs": [],
   "source": [
    "#Import packages\n",
    "import os\n",
    "import numpy as np\n",
    "import pandas as pd\n",
    "import xarray as xr\n",
    "\n"
   ]
  },
  {
   "cell_type": "code",
   "execution_count": 2,
   "metadata": {},
   "outputs": [],
   "source": [
    "# Directory containing the data\n",
    "data_dir = 'C:/Users/ifiri/Documents/PROYECTOS/2024_claudia_alzheimer/precuneus_data'\n",
    "os.chdir(data_dir)\n",
    "\n",
    "# List of files in the directory\n",
    "files = sorted(os.listdir(data_dir))\n",
    "\n",
    "# Number of files (subjects)\n",
    "num_files = len(files)\n",
    "\n",
    "# Initialize an empty list to hold the data\n",
    "data_list = []\n",
    "\n",
    "# Loop to read all the files\n",
    "for file_name in files:\n",
    "    file_path = os.path.join(data_dir, file_name)\n",
    "    data = pd.read_csv(file_path, sep='\\t', header=None)  # Assuming no header in the files\n",
    "    data_list.append(data.values)\n",
    "   \n",
    "\n",
    "# Convert the list to a 3D numpy array\n",
    "data_3d = np.array(data_list)\n",
    "\n",
    "# Create coordinates for the data\n",
    "coords = {\n",
    "    'subject': [f'Subject{i:03d}' for i in range(1, len(data_3d) + 1)],\n",
    "    'timepoint': np.arange(np.shape(data_3d)[1]),\n",
    "    'struc': np.arange(np.shape(data_3d)[2])\n",
    "}"
   ]
  }
 ],
 "metadata": {
  "kernelspec": {
   "display_name": ".venv",
   "language": "python",
   "name": "python3"
  },
  "language_info": {
   "codemirror_mode": {
    "name": "ipython",
    "version": 3
   },
   "file_extension": ".py",
   "mimetype": "text/x-python",
   "name": "python",
   "nbconvert_exporter": "python",
   "pygments_lexer": "ipython3",
   "version": "3.12.2"
  }
 },
 "nbformat": 4,
 "nbformat_minor": 2
}
